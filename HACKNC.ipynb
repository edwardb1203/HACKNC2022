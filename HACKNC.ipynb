{
  "nbformat": 4,
  "nbformat_minor": 0,
  "metadata": {
    "colab": {
      "provenance": [],
      "collapsed_sections": [],
      "include_colab_link": true
    },
    "kernelspec": {
      "name": "python3",
      "display_name": "Python 3"
    },
    "language_info": {
      "name": "python"
    }
  },
  "cells": [
    {
      "cell_type": "markdown",
      "metadata": {
        "id": "view-in-github",
        "colab_type": "text"
      },
      "source": [
        "<a href=\"https://colab.research.google.com/github/edwardb1203/HACKNC2022/blob/main/HACKNC.ipynb\" target=\"_parent\"><img src=\"https://colab.research.google.com/assets/colab-badge.svg\" alt=\"Open In Colab\"/></a>"
      ]
    },
    {
      "cell_type": "code",
      "execution_count": null,
      "metadata": {
        "id": "HvmtD_tiB4eC"
      },
      "outputs": [],
      "source": [
        "import pandas as pd\n",
        "import numpy as np\n",
        "import pickle\n",
        "from sklearn.metrics import classification_report\n",
        "from sklearn import metrics\n"
      ]
    },
    {
      "cell_type": "code",
      "source": [
        "import gradio as gr"
      ],
      "metadata": {
        "id": "ELKImcSHJSaJ"
      },
      "execution_count": null,
      "outputs": []
    },
    {
      "cell_type": "code",
      "source": [
        "url = 'https://raw.githubusercontent.com/edwardb1203/HACKNC2022/main/Crop_recommendation_dataset.csv'\n",
        "df=pd.read_csv(url)\n",
        "df.head()"
      ],
      "metadata": {
        "id": "QQLEP_84JSdI"
      },
      "execution_count": null,
      "outputs": []
    },
    {
      "cell_type": "code",
      "source": [
        "# Splitting our features and targets\n",
        "features = df[['N', 'P','K','temperature', 'humidity', 'ph', 'rainfall']]\n",
        "target = df['label']"
      ],
      "metadata": {
        "id": "082ymcJaNldv"
      },
      "execution_count": null,
      "outputs": []
    },
    {
      "cell_type": "code",
      "source": [
        "# Splitting into test and train data\n",
        "from sklearn.model_selection import train_test_split\n",
        "Xtrain, Xtest, Ytrain, Ytest = train_test_split(features,target,test_size = 0.25,random_state = 1)"
      ],
      "metadata": {
        "id": "3SEjB2YgRRy5"
      },
      "execution_count": null,
      "outputs": []
    },
    {
      "cell_type": "code",
      "source": [
        "# Training our model... we are using extreme gradient boost\n",
        "import xgboost as xgb\n",
        "XB = xgb.XGBClassifier()\n",
        "XB.fit(Xtrain,Ytrain)\n",
        "\n",
        "# Take a look at the accuracy\n",
        "x = metrics.accuracy_score(Ytest, predicted_values)\n",
        "print(\"XGBoost's Accuracy is: \", x)\n"
      ],
      "metadata": {
        "id": "OaOoeI2dRscG"
      },
      "execution_count": null,
      "outputs": []
    },
    {
      "cell_type": "code",
      "source": [
        "# Saving our trained model\n",
        "with open(\"XGBoost_example.pkl\", \"wb\") as f:\n",
        "  pickle.dump(XB, f)"
      ],
      "metadata": {
        "id": "pIlxs3bAWr4L"
      },
      "execution_count": null,
      "outputs": []
    },
    {
      "cell_type": "code",
      "source": [
        "# Loading trained model\n",
        "with open(\"XGBoost_example.pkl\", \"rb\") as g:\n",
        "  XGB = pickle.load(g)"
      ],
      "metadata": {
        "id": "uSudMSczXX1r"
      },
      "execution_count": null,
      "outputs": []
    },
    {
      "cell_type": "code",
      "source": [
        "# This is where all of our descriptions are stored\n",
        "grow_guides = {\t\n",
        "'rice':'When to plant: Plant in late spring\\nWater level: Rice requires an abundance of water\\nSun level:  Plant in full sun, or 6-8 hours of sunlight',\n",
        "'maize': 'When to plant: Plant 2-3 weeks after your area’s last frost\\nWater level: 2 inches of water per week\\nSun level:  Plant in full sun, or 6-8 hours of sunlight',\n",
        "'chickpea': 'When to plant: Plant 1-2 weeks before your area’s last frost\\nWater Level: One inch of water per week\\nSun level: Plant in full sun, or 6-8 hours of sunlight',\n",
        "'kidneybeans': 'When to plant: Plant in the spring, after your area’s last frost\\nWater Level:  Keep the plant moist,  but avoid overwatering\\nSun Level: Plant in full sun, or 6-8 hours of sunlight',\n",
        "'pigeonpeas':'When to plant: Plant in late spring after soil temperatures have risen\\nWater levels: grow in well draining soil\\nSun level: Plant in full sun, or 6-8 hours of sunlight',\n",
        "'mothbeans':'When to plant: Plant throughout Summer\\nWater levels: Very little irrigation required\\nSun levels: Plant in full sun, or 6-8 hours of sunlight',\n",
        "'mungbean': 'When to plant: Plant in spring when soil temperatures exceed 65 degrees Fahrenheit\\nWater level: Thrives in moderately dry conditions\\nSun level: Plant in full sun, or 6-8 hours of sunlight',\n",
        "'blackgram':'When to plant: Black gram is generally grown in the rainy summer season\\nWater level: Plant in well draining soil\\nSun level: Full sun, however an excess of heat requires an increase in the frequency of irrigation',\n",
        "'lentil': 'When to plant: Plant 2-3 weeks before the last frost date of your area\\nWater level: Keep evenly moist in loose, well drained soil\\nSun level: Plant in full sun, or 6-8 hours of sunlight',\n",
        "'pomegranate': 'When to plant: Plant in spring, or fall in warmer areas\\nWater level:  Water pomegranates deeply during the summer\\nSun level: Plant in full sun, or 6-8 hours of sunlight',\n",
        "'banana': 'When to plant: Plant in the spring, banana trees generally have a fast growth rate\\nWater level: Water regularly to ensure soil stays moist, bananas prefer a humid environment\\nSun level: Plant in full sun, or 6-8 hours of sunlight',\n",
        "'mango': 'When to plant: Plant in the spring when the weather is still mild\\nWater level: Water whenever the top 2 inches of the soil dry out\\nSun level: Plant in full sun, or 6-8 hours of sunlight',\n",
        "'grapes': 'When to plant: Plant in early spring after last hard freeze has occured\\nWater Level: Before planting, soak roots in water for 2 hours, water at time of planting\\nSun level: Plant in full sun, or 6-8 hours of sunlight',\n",
        "'watermelon': 'When to plant: Start seeds indoors 2-3 weeks before you last frost date, transplant to garden after 2 weeks\\nWater level: 1-2 inches of water per week\\nSun level: Plant in full sun, or 6-8 hours of sunlight',\n",
        "'muskmelon': 'When to plant: 3-4 weeks after the last average frost date of your area\\nWater Level: 1-2 inches of water per week\\nSun level: Plant in full sun, or 6-8 hours of sunlight',\n",
        "'apple': 'When to plant: Plant in early spring\\nWater level: Water young trees regularly to ensure that root systems become established\\nSun level: Plant in full sun, or 6-8 hours of sunlight',\n",
        "'orange': 'When to plant: Plant in early spring, or when frost is no longer a threat\\nWater level: Citrus plants need well draining soil to prevent over watering and root rot\\nSun level: Plant in full sun, or 6-8 hours of sunlight, warmth helps the citrus sweeten!',\n",
        "'papaya': 'When to plant: Papayas grow best in temperatures between 70 and 90 degrees F\\nWater Level: As the plant grows, water it every 3-4 days\\nSun level: Plant in full sun, or 6-8 hours of sunlight',\n",
        "'coconut': 'When to plant: Coconuts prefer high humidity and temperatures between 90 - 100 degrees F\\nWater Level: 1 inch per week\\nSun level: Plant in full sun, or 6-8 hours of sunlight',\n",
        "'cotton': 'When to plant: Cotton germinates best in temperatures between 75-80 degrees F\\nWater Level: Keep cotton moist, but not wet to avoid root rot\\nSun level: Plant in full sun, or 6-8 hours of sunlight',\n",
        "'jute': 'When to plant: Plant jute seeds between early spring, and late spring\\nWater Level: Water jute once a week, it requires consistent rainfall as well\\nSun level: Plant in full sun, or 6-8 hours of sunlight',\n",
        "'coffee': 'When to plant: Late spring is the best time to plant Coffee\\nWater Level: Keep the soil moist, but not soaking well, with good drainage\\nSun level: Coffee plants prefer partial, indirect sunlight'\n",
        "}\n",
        "\n",
        "# This is the function that takes in our model parameters\n",
        "# It creates a dataframe with our parameters because our model predict call is expecting a dataframe\n",
        "# Then we store the predicted crop and use it to get the correct image url and description from our dict\n",
        "def make_prediction(N, P, K, temperature, humidity, ph, rainfall):\n",
        "    predictors = pd.DataFrame([[N,P,K,temperature,humidity,ph,rainfall]], columns=['N','P','K','temperature','humidity','ph','rainfall'])\n",
        "    crop = XGB.predict(predictors)[0]\n",
        "    url = \"https://raw.githubusercontent.com/edwardb1203/HACKNC2022/main/assets/\" + crop + \".jpg\"\n",
        "    description = grow_guides[crop]\n",
        "    return crop, url, description\n",
        "\n",
        "# This is all of the input we need to collect\n",
        "N = gr.Number(label = \"Enter Nitrogen content of soil: \")\n",
        "P = gr.Number(label= \"Enter Phosphorous content of soil: \")\n",
        "K = gr.Number(label = \"Enter Potassium content of soil: \")\n",
        "temperature = gr.Number(label = \"Enter approximate local temperature: \")\n",
        "humidity = gr.Number(label = \"Enter approximate local humidity %: \")\n",
        "ph = gr.Number(label = \"Enter ph of soil: \")\n",
        "rainfall = gr.Number(label = \"Enter approximate local rainfall for the season in mm: \")\n",
        "\n",
        "# This is what we map our output to \n",
        "output0 = gr.Textbox(label=\"Optimal Crop:\")\n",
        "output1 = gr.Image(label=\"Crop Image\")\n",
        "output2 = gr.Textbox(label=\"Crop Info:\")\n",
        "\n",
        "# Storing the input in an array to pass to function\n",
        "input_arr=[N, P, K, temperature, humidity, ph, rainfall]\n",
        "\n",
        "# Gradio app launcher\n",
        "app = gr.Interface(fn = make_prediction, inputs=input_arr, outputs=[output0, output1, output2])\n",
        "app.launch(share=True)\n"
      ],
      "metadata": {
        "id": "g-tcsfp1h7z_"
      },
      "execution_count": null,
      "outputs": []
    }
  ]
}